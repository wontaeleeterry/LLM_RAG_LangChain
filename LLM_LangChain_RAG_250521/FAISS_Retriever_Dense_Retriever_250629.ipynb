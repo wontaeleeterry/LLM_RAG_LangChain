{
 "cells": [
  {
   "cell_type": "code",
   "execution_count": null,
   "id": "ab407f0d",
   "metadata": {},
   "outputs": [],
   "source": [
    "# FAISS : 대규모 데이터셋에서 고차원 벡터의 유사도 검색을 빠르게 수행할 수 있도록 설계된 라이브러리\n",
    "# pip intatll faiss-cpu / faiss-gpu\n",
    "\n",
    "# 밀집검색 (dense retriever) :\n",
    "# 문서와 쿼리를 고차원 밀집 벡터 형태로 표현하여 검색을 수행하는 방법 (p. 244)\n",
    "# 희소 검색과 달리, 단어의 존재 여부나 빈도만이 아닌 단어의 의미와 문맥을 고려하여 검색을 수행\n",
    "\n",
    "# 밀집검색의 작동 과정\n",
    "# 문서 변환 -> 질문 처리 -> 유사도 계산 -> 랭킹 -> 결과 반환"
   ]
  },
  {
   "cell_type": "code",
   "execution_count": 6,
   "id": "0318ada9",
   "metadata": {},
   "outputs": [],
   "source": [
    "from langchain_community.document_loaders import PyPDFLoader\n",
    "from langchain_text_splitters import RecursiveCharacterTextSplitter\n",
    "\n",
    "file_path = (\n",
    "    \"C:\\Dev\\LLM_LangChain_RAG_250521\\data_stock\\Samsung_2024.pdf\"\n",
    ")\n",
    "\n",
    "loader = PyPDFLoader(file_path)\n",
    "\n",
    "doc_splitter = RecursiveCharacterTextSplitter(chunk_size=2000, chunk_overlap=200)\n",
    "\n",
    "docs = loader.load_and_split(doc_splitter)"
   ]
  },
  {
   "cell_type": "code",
   "execution_count": 8,
   "id": "a551e5c4",
   "metadata": {},
   "outputs": [
    {
     "name": "stderr",
     "output_type": "stream",
     "text": [
      "C:\\Users\\wonta\\AppData\\Local\\Temp\\ipykernel_11808\\2953665233.py:9: LangChainDeprecationWarning: The class `HuggingFaceEmbeddings` was deprecated in LangChain 0.2.2 and will be removed in 1.0. An updated version of the class exists in the :class:`~langchain-huggingface package and should be used instead. To use it run `pip install -U :class:`~langchain-huggingface` and import as `from :class:`~langchain_huggingface import HuggingFaceEmbeddings``.\n",
      "  embeddings_model = HuggingFaceEmbeddings(\n"
     ]
    },
    {
     "name": "stdout",
     "output_type": "stream",
     "text": [
      "WARNING:tensorflow:From c:\\Users\\wonta\\anaconda3\\Lib\\site-packages\\tf_keras\\src\\losses.py:2976: The name tf.losses.sparse_softmax_cross_entropy is deprecated. Please use tf.compat.v1.losses.sparse_softmax_cross_entropy instead.\n",
      "\n"
     ]
    },
    {
     "data": {
      "text/plain": [
       "HuggingFaceEmbeddings(client=SentenceTransformer(\n",
       "  (0): Transformer({'max_seq_length': 128, 'do_lower_case': False}) with Transformer model: BertModel \n",
       "  (1): Pooling({'word_embedding_dimension': 384, 'pooling_mode_cls_token': False, 'pooling_mode_mean_tokens': True, 'pooling_mode_max_tokens': False, 'pooling_mode_mean_sqrt_len_tokens': False, 'pooling_mode_weightedmean_tokens': False, 'pooling_mode_lasttoken': False, 'include_prompt': True})\n",
       "), model_name='sentence-transformers/paraphrase-multilingual-MiniLM-L12-v2', cache_folder=None, model_kwargs={'device': 'cpu'}, encode_kwargs={'normalize_embeddings': True}, multi_process=False, show_progress=False)"
      ]
     },
     "execution_count": 8,
     "metadata": {},
     "output_type": "execute_result"
    }
   ],
   "source": [
    "# OpenAI 임베딩 모델\n",
    "\n",
    "# from langchain_openai.embeddings import OpenAIEmbeddings\n",
    "\n",
    "# embedding = OpenAIEmbeddings(model=\"text-embedding-3-large\")    # API Key가 없으므로 HuggingFace로 대체\n",
    "\n",
    "from langchain.embeddings import HuggingFaceEmbeddings\n",
    "\n",
    "embeddings_model = HuggingFaceEmbeddings(\n",
    "    model_name='sentence-transformers/paraphrase-multilingual-MiniLM-L12-v2',    # 다국어 모델\n",
    "    # model_name='jhgan/ko-sroberta-multitask',  # 한국어 모델 - 에러 발생 (250603)\n",
    "    # model_name = 'BAAI/bge-m3',                # 에러 발생 (250603)\n",
    "    model_kwargs={'device':'cpu'},\n",
    "    encode_kwargs={'normalize_embeddings':True},\n",
    ")\n",
    "\n",
    "embeddings_model"
   ]
  },
  {
   "cell_type": "code",
   "execution_count": 11,
   "id": "7b8e7b57",
   "metadata": {},
   "outputs": [],
   "source": [
    "# FAISS 라이브러리 임포트\n",
    "\n",
    "from langchain_community.vectorstores import FAISS\n",
    "\n",
    "# FAISS DB 생성 후 저장\n",
    "\n",
    "faiss_store = FAISS.from_documents(docs, embeddings_model)\n",
    "faiss_store.save_local(\"./content/DB\")"
   ]
  },
  {
   "cell_type": "code",
   "execution_count": 13,
   "id": "bf18550f",
   "metadata": {},
   "outputs": [],
   "source": [
    "# 저장된 DB 경로 지정 후, DB 로드\n",
    "\n",
    "persist_folder = \"./content/DB\"\n",
    "vectordb = FAISS.load_local(persist_folder, embeddings=embeddings_model, allow_dangerous_deserialization=True)"
   ]
  },
  {
   "cell_type": "code",
   "execution_count": 17,
   "id": "db770825",
   "metadata": {},
   "outputs": [],
   "source": [
    "# FAISS Retriever 생성\n",
    "\n",
    "faiss_retriever = vectordb.as_retriever(search_kwargs={\"k\": 2})"
   ]
  },
  {
   "cell_type": "code",
   "execution_count": 27,
   "id": "eb5798d8",
   "metadata": {},
   "outputs": [],
   "source": [
    "from langchain.chains import RetrievalQA, ConversationalRetrievalChain\n",
    "from langchain_openai import ChatOpenAI\n",
    "from langchain_core.callbacks.streaming_stdout import StreamingStdOutCallbackHandler\n",
    "\n",
    "# 관련있는 문서 수집 후, 챗GPT로 최종 답변 수행\n",
    "# 여기서는 Local(LM Tools)에서 실행\n",
    "\n",
    "llm_lmtool = ChatOpenAI(\n",
    "    base_url=\"http://192.168.25.5:11434/v1\",\n",
    "    api_key=\"lm-studio\",\n",
    "    model=\"lmstudio-community/Meta-Llama-3.1-8B-Instruct-GGUF\",\n",
    "    temperature=0.2,\n",
    "    streaming=True,\n",
    "    callbacks=[StreamingStdOutCallbackHandler()], # 스트림 출력 콜백\n",
    ")\n",
    "\n",
    "qa_chain = RetrievalQA.from_chain_type(\n",
    "    llm = llm_lmtool,\n",
    "    chain_type = \"stuff\",\n",
    "    retriever=faiss_retriever,\n",
    "    return_source_documents=True   # 답변에 사용된 source document를 보여주도록 설정\n",
    ")"
   ]
  },
  {
   "cell_type": "code",
   "execution_count": 28,
   "id": "0797ba13",
   "metadata": {},
   "outputs": [
    {
     "name": "stdout",
     "output_type": "stream",
     "text": [
      "회사의 정관에 의한 발행할 주식의 총수는 25,000,000,000주입니다."
     ]
    },
    {
     "data": {
      "text/plain": [
       "{'query': '이 회사가 발행한 주식의 총 발행량을 알려줘.',\n",
       " 'result': '회사의 정관에 의한 발행할 주식의 총수는 25,000,000,000주입니다.',\n",
       " 'source_documents': [Document(id='747ab3b6-2987-4662-b86d-f1c1ec283440', metadata={'producer': 'iText® 5.4.0 ©2000-2012 1T3XT BVBA (AGPL-version)', 'creator': 'PyPDF', 'creationdate': '2025-03-11T17:01:52+09:00', 'moddate': '2025-03-11T17:01:52+09:00', 'source': 'C:\\\\Dev\\\\LLM_LangChain_RAG_250521\\\\data_stock\\\\Samsung_2024.pdf', 'total_pages': 527, 'page': 131, 'page_label': '129'}, page_content='회사의 정관에 의한 발\\n행할 주식의 총수(주) \\u3000 \\u3000 25,000,000,000\\n주당 액면가액(원) \\u3000 \\u3000 100\\n발행주식 액면 총액(백\\n만원) 596,978 82,289 679,267\\n납입자본금(백만원) \\u3000 \\u3000 897,514\\n자본금에 대한 설명 \\u3000 \\u3000\\n보고기간종료일 현재 회\\n사의 정관에 의한 발행\\n할 주식의 총수는 250억\\n주(1주의 액면금액:\\n100원)이며, 회사에는\\n보통주 외 비누적적 우\\n선주가 있습니다. 이 우\\n선주는 의결권이 없고\\n액면금액을 기준으로 보\\n통주의 배당보다 연\\n1%의 금전배당을 추가\\n로 받을 수 있습니다. 보\\n고기간종료일 현재 회사\\n가 발행한 보통주 및 우\\n선주의 수(소각 주식수\\n제외)는 각각\\n5,969,782,550주와\\n822,886,700주이며, 유\\n통주식수는 자기주식 취\\n득으로 인하여 발행주식\\n의 총수와 차이가 있습\\n니다. 한편, 발행주식의\\n액면총액은 679,267백\\n만원(보통주 596,978백\\n만원, 우선주 82,289백\\n만원)으로 이익소각으로\\n인하여 납입자본금\\n897,514백만원과 상이\\n합니다.\\n전자공시시스템 dart.fss.or.kr Page 129'),\n",
       "  Document(id='2680d1d1-0a78-45c9-8e45-17a01751b64b', metadata={'producer': 'iText® 5.4.0 ©2000-2012 1T3XT BVBA (AGPL-version)', 'creator': 'PyPDF', 'creationdate': '2025-03-11T17:01:52+09:00', 'moddate': '2025-03-11T17:01:52+09:00', 'source': 'C:\\\\Dev\\\\LLM_LangChain_RAG_250521\\\\data_stock\\\\Samsung_2024.pdf', 'total_pages': 527, 'page': 262, 'page_label': '260'}, page_content=\"7. 증권의 발행을 통한 자금조달에 관한 사항\\n \\n7-1. 증권의 발행을 통한 자금조달 실적\\n \\n \\n당사는 공시대상기간 중 지분증권의 발행 실적이 없습니다.\\n \\n \\n가. 채무증권 발행실적 \\n \\n[지분증권의 발행 등과 관련된 사항]\\n(기준일 : 2024년 12월 31일 ) (단위 : 원, 주)\\n주식발행\\n(감소)일자\\n발행(감소)\\n형태\\n발행(감소)한 주식의 내용\\n종류 수량\\n주당\\n액면가액\\n주당발행\\n(감소)가액\\n비고\\n- - - - - - -\\n- - - - - - -\\n[채무증권의 발행 등과 관련된 사항]\\n(기준일 : 2024년 12월 31일 ) (단위 : 백만원, %)\\n발행회사 증권종류 발행방법 발행일자\\n권면(전자등\\n록)총액\\n이자율\\n평가등급\\n(평가기관)\\n만기일\\n상환\\n여부\\n주관회사\\n삼성전자㈜ 회사채 공모 1997.10.02 147,000 7.7%\\nAa2 (Moody's),\\nAA- (S&P)\\n2027.10.01 일부상환\\nGoldman\\nSachs 등\\nHarman International\\nIndustries, Inc\\n회사채 공모 2015.05.11 588,000 4.2% A (S&P) 2025.05.15 미상환 J.P. Morgan 등\\n합  계 - - - 735,000 - - - - -\\n전자공시시스템 dart.fss.or.kr Page 260\")]}"
      ]
     },
     "execution_count": 28,
     "metadata": {},
     "output_type": "execute_result"
    }
   ],
   "source": [
    "qa_chain.invoke(\"이 회사가 발행한 주식의 총 발행량을 알려줘.\")"
   ]
  },
  {
   "cell_type": "code",
   "execution_count": 29,
   "id": "2c936be0",
   "metadata": {},
   "outputs": [
    {
     "name": "stdout",
     "output_type": "stream",
     "text": [
      "제공된 정보에서 2025년 계획을 찾을 수 있는 부분은 다음과 같습니다.\n",
      "\n",
      "* 조기입증감사(연중감사) : 2024.03.06 ~ 2024.12.29 (이러한 일정은 연중 감사를 의미하므로, 2025년에도 연중 감사가 진행될 것으로 추정됩니다.)\n",
      "* 내부회계관리제도 감사 : 2024.04.03 ~ 2025.01.31\n",
      "* 조기입증감사 절차 업데이트 및 재무제표 감사 : 2025.01.02 ~ 2025.02.18\n",
      "\n",
      "이러한 일정은 회사의 내부 감사를 의미하며, 2025년의 계획을 자세히 알 수는 없습니다."
     ]
    },
    {
     "data": {
      "text/plain": [
       "{'query': '이 회사의 2025년 계획을 알려줘.',\n",
       " 'result': '제공된 정보에서 2025년 계획을 찾을 수 있는 부분은 다음과 같습니다.\\n\\n* 조기입증감사(연중감사) : 2024.03.06 ~ 2024.12.29 (이러한 일정은 연중 감사를 의미하므로, 2025년에도 연중 감사가 진행될 것으로 추정됩니다.)\\n* 내부회계관리제도 감사 : 2024.04.03 ~ 2025.01.31\\n* 조기입증감사 절차 업데이트 및 재무제표 감사 : 2025.01.02 ~ 2025.02.18\\n\\n이러한 일정은 회사의 내부 감사를 의미하며, 2025년의 계획을 자세히 알 수는 없습니다.',\n",
       " 'source_documents': [Document(id='d18b3605-1f1b-455b-8baf-8502ddb945c2', metadata={'producer': 'iText® 5.4.0 ©2000-2012 1T3XT BVBA (AGPL-version)', 'creator': 'PyPDF', 'creationdate': '2025-03-11T17:01:52+09:00', 'moddate': '2025-03-11T17:01:52+09:00', 'source': 'C:\\\\Dev\\\\LLM_LangChain_RAG_250521\\\\data_stock\\\\Samsung_2024.pdf', 'total_pages': 527, 'page': 312, 'page_label': '310'}, page_content='(제56기 일정)\\n구  분 일  정\\n제56기 1분기\\n사전검토 2024.03.11 ~ 2024.03.29\\n본검토 2024.04.08 ~ 2024.05.14\\n제56기 2분기\\n사전검토 2024.06.10 ~ 2024.06.27\\n본검토 2024.07.08 ~ 2024.08.13\\n제56기 3분기\\n사전검토 2024.09.09 ~ 2024.09.27\\n본검토 2024.10.08 ~ 2024.11.13\\n시스템 및 자동 내부통제 감사 2024.04.03 ~ 2025.01.31\\n조기입증감사(연중감사) 2024.03.06 ~ 2024.12.29\\n내부회계관리제도 감사 2024.04.03 ~ 2025.01.31\\n조기입증감사 절차 업데이트 및 재무제표 감사 2025.01.02 ~ 2025.02.18\\n※ 별도ㆍ연결 재무제표 검토 및 감사와 내부회계관리제도 감사에 대한 일정입니다.\\n[비감사용역 체결 현황] (단위 : 백만원)\\n사업연도 계약체결일 용역내용 용역수행기간 용역보수 비고\\n제56기(당기)\\n2017.02 세무자문업무(해외종속기업) 2024.01~2024.06 43 삼정회계법인\\n2018.09 세무자문업무(해외종속기업) 2024.01~2024.05 - 삼정회계법인\\n2019.05 세무자문업무(해외종속기업) 2024.01~2024.06 73 삼정회계법인\\n제55기(전기)\\n2017.02 세무자문업무(해외종속기업) 2023.01~2023.12 202 삼정회계법인\\n2018.09 세무자문업무(해외종속기업) 2023.01~2023.12 27 삼정회계법인\\n2019.05 세무자문업무(해외종속기업) 2023.01~2023.12 79 삼정회계법인\\n2023.05 ESG인증업무(국내종속기업) 2023.05~2023.07 25 삼정회계법인\\n제54기(전전기)\\n- - - - -\\n- - - - -\\n[내부감사기구가 회계감사인과 논의한 결과]\\n구분 일자 참석자 방식 주요 논의 내용\\n1 2024.01.29\\nㆍ감사위원회: 위원 3명\\nㆍ회사: 감사팀장\\nㆍ감사인: 업무수행이사 외 5명\\n대면회의\\nㆍ연간 회계감사 진행 상황\\nㆍ핵심 감사사항 등 중점 감사사항\\nㆍ내부회계관리제도 감사 진행 상황\\nㆍ기타 감사종료단계 필수 커뮤니케이션 사항\\n2 2024.04.26\\nㆍ감사위원회: 위원 3명\\nㆍ회사: 감사팀장\\nㆍ감사인: 업무수행이사 외 5명\\n대면회의\\nㆍ분기 검토 경과 보고\\nㆍ연간 회계감사 계획\\nㆍ기타 감사계획단계 필수 커뮤니케이션 사항\\n3 2024.07.29\\nㆍ감사위원회: 위원 3명\\nㆍ회사: 감사팀장\\nㆍ감사인: 업무수행이사 외 5명\\n대면회의\\nㆍ연간 회계감사 진행 상황\\nㆍ핵심 감사사항 선정 계획\\nㆍ내부회계관리제도 감사 진행 상황\\nㆍ분기 중점 검토사항 및 기타 필수 커뮤니케이션 사\\n항\\n전자공시시스템 dart.fss.or.kr Page 310'),\n",
       "  Document(id='83208d7b-24a6-4fe6-9800-d0eb9f7ff76b', metadata={'producer': 'iText® 5.4.0 ©2000-2012 1T3XT BVBA (AGPL-version)', 'creator': 'PyPDF', 'creationdate': '2025-03-11T17:01:52+09:00', 'moddate': '2025-03-11T17:01:52+09:00', 'source': 'C:\\\\Dev\\\\LLM_LangChain_RAG_250521\\\\data_stock\\\\Samsung_2024.pdf', 'total_pages': 527, 'page': 181, 'page_label': '179'}, page_content='3. 중요한 회계추정 및 가정\\n이연수익으로 처리하고, 관련 자산의 내용연수 동안 상각하여 손익으로 반영하고 있습니다.\\n2.18 재무제표의 승인\\n회사의 재무제표는 2025년 1월 31일 이사회에서 승인되었으며, 향후 정기주주총회에서 수정 승인\\n될 수 있습니다.\\n회사는 미래에 대하여 추정 및 가정을 하고 있습니다. 추정 및 가정은 지속적으로 평가되며, 과거 경\\n험과 현재의 상황에서 합리적으로 예측가능한 미래의 사건을 고려하여 이루어집니다. 이러한 회계\\n추정은 실제 결과와 다를 수도 있습니다. 다음 회계연도에 자산 및 부채 장부금액의 조정에 영향을\\n미칠 수 있는 유의적 위험에 대한 추정 및 가정은 다음과 같습니다.\\n가. 수익인식\\n회사는 고객에게 제품 판매 후 고객이 반품할 것으로 예상되는 제품에 대하여 환불부채와 회수할 재\\n화에 대한 권리를 인식하고 있습니다. 판매 시점에 포트폴리오 수준에서 누적된 경험에 기초하여 기\\n대값 방법으로 반품률을 예측하고 있으며, 회사의 수익은 예측된 반품률의 변동에 영향을 받습니다.\\n회사는 재화의 판매로 인한 수익을 통제가 이전되는 시점에 계약에 따른 대가에서 특정 매출장려활\\n동을 차감한 금액으로 인식하고 있습니다. 과거의 경험 및 계약에 기초하여 매출차감액을 합리적으\\n로 추정하고 있으며, 회사의 수익은 추정된 매출차감에 영향을 받습니다.\\n나. 판매보증충당부채\\n회사는 판매한 제품에 대하여 품질에 대한 보증의무를 부담하고 있습니다. 회사는 매\\n보고기간종료일 미래와 현재의 보증의무를 제공하는데 필요하다고 판단되는 최선의 추정치를 기준\\n으로 판매보증충당부채를 계상하고 있습니다. 이러한 최선의 추정치는과거 경험에 기초하여 결정하\\n고 있습니다.\\n다. 금융상품의 공정가치\\n회사는 활성시장에서 거래되지 않는 금융상품의 공정가치에 대하여 보고기간종료일 현재 주요한 시\\n장상황을 기초로 다양한 평가기법 및 가정을 사용하여 결정하고 있습니다.\\n라. 금융자산의 손상\\n회사는 금융자산의 손실충당금을 측정할 때에 채무불이행위험과 기대신용률에 대한 가정에 근거하\\n였습니다. 회사는 이러한 가정을 세우고 손상 계산을 위한 투입요소를 선택할 때 보고기간종료일의\\n미래 전망에 대한 추정 및 과거 경험, 현재 시장 상황에 근거하여 판단합니다.\\n마. 리스\\n회사는 리스기간을 산정할 때에 연장선택권을 행사하거나 종료선택권을 행사하지 않을 경제적 유인\\n이 생기게 하는 관련되는 사실 및 상황을 모두 고려합니다. 연장선택권의 대상 기간(또는 종료선택\\n권의 대상 기간)은 리스이용자가 연장선택권을 행사할 것(또는 행사하지 않을 것)이 상당히 확실한\\n경우에만 리스기간에 포함됩니다.\\n전자공시시스템 dart.fss.or.kr Page 179')]}"
      ]
     },
     "execution_count": 29,
     "metadata": {},
     "output_type": "execute_result"
    }
   ],
   "source": [
    "qa_chain.invoke(\"이 회사의 2025년 계획을 알려줘.\")"
   ]
  },
  {
   "cell_type": "code",
   "execution_count": 30,
   "id": "e23784f5",
   "metadata": {},
   "outputs": [
    {
     "name": "stdout",
     "output_type": "stream",
     "text": [
      "제공된 정보에서 2024년의 경영 성과에 대한 직접적인 정보가 없습니다. 그러나, 배당수익률에 대한 정보를 제공하고 있습니다.\n",
      "\n",
      "배당수익률은 2024년(제56기) 보통주 2.7%, 우선주 3.3%로, 2023년 대비 변동이 없는 것으로 나타납니다."
     ]
    },
    {
     "data": {
      "text/plain": [
       "{'query': '이 회사의 2024년 경영 성과는 2023년 대비 어떠했는지 알려줘.',\n",
       " 'result': '제공된 정보에서 2024년의 경영 성과에 대한 직접적인 정보가 없습니다. 그러나, 배당수익률에 대한 정보를 제공하고 있습니다.\\n\\n배당수익률은 2024년(제56기) 보통주 2.7%, 우선주 3.3%로, 2023년 대비 변동이 없는 것으로 나타납니다.',\n",
       " 'source_documents': [Document(id='d18b3605-1f1b-455b-8baf-8502ddb945c2', metadata={'producer': 'iText® 5.4.0 ©2000-2012 1T3XT BVBA (AGPL-version)', 'creator': 'PyPDF', 'creationdate': '2025-03-11T17:01:52+09:00', 'moddate': '2025-03-11T17:01:52+09:00', 'source': 'C:\\\\Dev\\\\LLM_LangChain_RAG_250521\\\\data_stock\\\\Samsung_2024.pdf', 'total_pages': 527, 'page': 312, 'page_label': '310'}, page_content='(제56기 일정)\\n구  분 일  정\\n제56기 1분기\\n사전검토 2024.03.11 ~ 2024.03.29\\n본검토 2024.04.08 ~ 2024.05.14\\n제56기 2분기\\n사전검토 2024.06.10 ~ 2024.06.27\\n본검토 2024.07.08 ~ 2024.08.13\\n제56기 3분기\\n사전검토 2024.09.09 ~ 2024.09.27\\n본검토 2024.10.08 ~ 2024.11.13\\n시스템 및 자동 내부통제 감사 2024.04.03 ~ 2025.01.31\\n조기입증감사(연중감사) 2024.03.06 ~ 2024.12.29\\n내부회계관리제도 감사 2024.04.03 ~ 2025.01.31\\n조기입증감사 절차 업데이트 및 재무제표 감사 2025.01.02 ~ 2025.02.18\\n※ 별도ㆍ연결 재무제표 검토 및 감사와 내부회계관리제도 감사에 대한 일정입니다.\\n[비감사용역 체결 현황] (단위 : 백만원)\\n사업연도 계약체결일 용역내용 용역수행기간 용역보수 비고\\n제56기(당기)\\n2017.02 세무자문업무(해외종속기업) 2024.01~2024.06 43 삼정회계법인\\n2018.09 세무자문업무(해외종속기업) 2024.01~2024.05 - 삼정회계법인\\n2019.05 세무자문업무(해외종속기업) 2024.01~2024.06 73 삼정회계법인\\n제55기(전기)\\n2017.02 세무자문업무(해외종속기업) 2023.01~2023.12 202 삼정회계법인\\n2018.09 세무자문업무(해외종속기업) 2023.01~2023.12 27 삼정회계법인\\n2019.05 세무자문업무(해외종속기업) 2023.01~2023.12 79 삼정회계법인\\n2023.05 ESG인증업무(국내종속기업) 2023.05~2023.07 25 삼정회계법인\\n제54기(전전기)\\n- - - - -\\n- - - - -\\n[내부감사기구가 회계감사인과 논의한 결과]\\n구분 일자 참석자 방식 주요 논의 내용\\n1 2024.01.29\\nㆍ감사위원회: 위원 3명\\nㆍ회사: 감사팀장\\nㆍ감사인: 업무수행이사 외 5명\\n대면회의\\nㆍ연간 회계감사 진행 상황\\nㆍ핵심 감사사항 등 중점 감사사항\\nㆍ내부회계관리제도 감사 진행 상황\\nㆍ기타 감사종료단계 필수 커뮤니케이션 사항\\n2 2024.04.26\\nㆍ감사위원회: 위원 3명\\nㆍ회사: 감사팀장\\nㆍ감사인: 업무수행이사 외 5명\\n대면회의\\nㆍ분기 검토 경과 보고\\nㆍ연간 회계감사 계획\\nㆍ기타 감사계획단계 필수 커뮤니케이션 사항\\n3 2024.07.29\\nㆍ감사위원회: 위원 3명\\nㆍ회사: 감사팀장\\nㆍ감사인: 업무수행이사 외 5명\\n대면회의\\nㆍ연간 회계감사 진행 상황\\nㆍ핵심 감사사항 선정 계획\\nㆍ내부회계관리제도 감사 진행 상황\\nㆍ분기 중점 검토사항 및 기타 필수 커뮤니케이션 사\\n항\\n전자공시시스템 dart.fss.or.kr Page 310'),\n",
       "  Document(id='4a8a0002-cbb7-4fa1-89f9-4dfe0e65c07c', metadata={'producer': 'iText® 5.4.0 ©2000-2012 1T3XT BVBA (AGPL-version)', 'creator': 'PyPDF', 'creationdate': '2025-03-11T17:01:52+09:00', 'moddate': '2025-03-11T17:01:52+09:00', 'source': 'C:\\\\Dev\\\\LLM_LangChain_RAG_250521\\\\data_stock\\\\Samsung_2024.pdf', 'total_pages': 527, 'page': 261, 'page_label': '259'}, page_content=\"※ 최근 3년간은 2021년(제53기)부터 2023년(제55기)까지 기간이며, 최근 5년간은 2019년(제51기)부터\\n    2023년(제55기)까지 기간입니다.2024년(제56기) 배당수익률은 상기 '주요 배당지표'를\\n    참고하시기 바랍니다(보통주 2.7%, 우선주 3.3%).\\n전자공시시스템 dart.fss.or.kr Page 259\")]}"
      ]
     },
     "execution_count": 30,
     "metadata": {},
     "output_type": "execute_result"
    }
   ],
   "source": [
    "qa_chain.invoke(\"이 회사의 2024년 경영 성과는 2023년 대비 어떠했는지 알려줘.\")"
   ]
  },
  {
   "cell_type": "code",
   "execution_count": 31,
   "id": "23e719c6",
   "metadata": {},
   "outputs": [
    {
     "name": "stdout",
     "output_type": "stream",
     "text": [
      "이 회사는 연결대상 종속기업의 총 수는 228개 사로 증가한 것을 보이고 있습니다. 주요 매출처로는 Apple, Deutsche Telekom, Hong Kong Techtronics, Supreme Electronics, Verizon 등이 있으며, 이들에 대한 매출 비중은 전체 매출액 대비 약 14% 수준입니다. 또한, 장기공급계약 수주거래는 없음을 알 수 있습니다."
     ]
    },
    {
     "data": {
      "text/plain": [
       "{'query': '이 회사의 2024년 경영 성과를 200자 내외로 요약해줘.',\n",
       " 'result': '이 회사는 연결대상 종속기업의 총 수는 228개 사로 증가한 것을 보이고 있습니다. 주요 매출처로는 Apple, Deutsche Telekom, Hong Kong Techtronics, Supreme Electronics, Verizon 등이 있으며, 이들에 대한 매출 비중은 전체 매출액 대비 약 14% 수준입니다. 또한, 장기공급계약 수주거래는 없음을 알 수 있습니다.',\n",
       " 'source_documents': [Document(id='713f454f-f402-48a2-9f5a-7f456f6acdec', metadata={'producer': 'iText® 5.4.0 ©2000-2012 1T3XT BVBA (AGPL-version)', 'creator': 'PyPDF', 'creationdate': '2025-03-11T17:01:52+09:00', 'moddate': '2025-03-11T17:01:52+09:00', 'source': 'C:\\\\Dev\\\\LLM_LangChain_RAG_250521\\\\data_stock\\\\Samsung_2024.pdf', 'total_pages': 527, 'page': 9, 'page_label': '7'}, page_content=\"마. 연결대상 종속회사 현황(요약)\\n \\n기업회계기준서(K-IFRS) 제1110호 '연결재무제표'에 의한 지배회사(최상위)인 당사의 연결\\n대상 종속기업은 2024년말 현재 228개사입니다. 전년말 대비 6개 기업이 증가하고 10개 기\\n업이 감소하였습니다. \\n(당기 연결대상회사의 변동내용) \\n \\n바. 중소기업 해당 여부 \\n \\n당사는「중소기업기본법」제2조에 의한 중소기업에 해당되지 않습니다.\\n \\n(단위 : 사)\\n구분\\n연결대상회사수 주요\\n종속회사수기초 증가 감소 기말\\n상장 - - - - -\\n비상장 232 6 10 228 142\\n합계 232 6 10 228 142\\n※상세 현황은 '상세표-1. 연결대상 종속회사 현황(상세)' 참조\\n구 분 자회사 사 유\\n신규\\n연결\\nHarman International (Thailand) Co., Ltd. 설립\\nOxford Semantic Technologies Limited 지분취득\\nSonio SAS 지분취득\\nSonio Corporation 지분취득\\nSamsung Electronics Middle east and North Africa (SEMENA) 설립\\nSVIC 67호 신기술투자조합 설립\\n연결\\n제외\\nHarman Financial Group LLC 청산\\nSamsung Display Slovakia, s.r.o., v likvidacii (SDSK) 청산\\nSamsung Electronics Overseas B.V. (SEO) 청산\\nDOWOOINSYS VINA COMPANY LIMITED 매각\\nTianjin Samsung Electronics Co., Ltd. (TSEC) 청산\\n㈜도우인시스 매각\\n지에프㈜ 매각\\nSVIC 48호 신기술투자조합 청산\\nSVIC 29호 신기술투자조합 청산\\nSVIC 40호 신기술투자조합 청산\\n중소기업 해당 여부 미해당\\n벤처기업 해당 여부 미해당\\n전자공시시스템 dart.fss.or.kr Page 7\"),\n",
       "  Document(id='03cab835-1bc6-4c8c-b0c2-023917964518', metadata={'producer': 'iText® 5.4.0 ©2000-2012 1T3XT BVBA (AGPL-version)', 'creator': 'PyPDF', 'creationdate': '2025-03-11T17:01:52+09:00', 'moddate': '2025-03-11T17:01:52+09:00', 'source': 'C:\\\\Dev\\\\LLM_LangChain_RAG_250521\\\\data_stock\\\\Samsung_2024.pdf', 'total_pages': 527, 'page': 41, 'page_label': '39'}, page_content='마. 주요 매출처\\n \\n2024년 당사의 주요 매출처로는 Apple, Deutsche Telekom, Hong Kong Techtronics,\\nSupreme Electronics, Verizon 등(알파벳순) 입니다. 당사의 주요 5대 매출처에 대한 매출\\n비중은 전체 매출액 대비 약 14% 수준입니다.\\n \\n바. 수주상황\\n \\n2024년말 현재 당사 재무제표에 중요한 영향을 미치는 장기공급계약 수주거래는 없습니다. \\n \\n전자공시시스템 dart.fss.or.kr Page 39')]}"
      ]
     },
     "execution_count": 31,
     "metadata": {},
     "output_type": "execute_result"
    }
   ],
   "source": [
    "qa_chain.invoke(\"이 회사의 2024년 경영 성과를 200자 내외로 요약해줘.\")"
   ]
  },
  {
   "cell_type": "code",
   "execution_count": null,
   "id": "4f76f90d",
   "metadata": {},
   "outputs": [],
   "source": []
  }
 ],
 "metadata": {
  "kernelspec": {
   "display_name": "base",
   "language": "python",
   "name": "base"
  },
  "language_info": {
   "codemirror_mode": {
    "name": "ipython",
    "version": 3
   },
   "file_extension": ".py",
   "mimetype": "text/x-python",
   "name": "python",
   "nbconvert_exporter": "python",
   "pygments_lexer": "ipython3",
   "version": "3.11.7"
  }
 },
 "nbformat": 4,
 "nbformat_minor": 5
}
