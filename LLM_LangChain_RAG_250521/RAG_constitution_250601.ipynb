{
 "cells": [
  {
   "cell_type": "code",
   "execution_count": 12,
   "id": "f358a82a",
   "metadata": {},
   "outputs": [],
   "source": [
    "# 대한민국 헌법을 PDF파일로 입력받아,\n",
    "# RAG 모델을 만들어 Ollama로 대통령의 탄핵 요건에 대한 질문과 답변을 생성 (250601)"
   ]
  },
  {
   "cell_type": "code",
   "execution_count": 13,
   "id": "d3ef6ee8",
   "metadata": {},
   "outputs": [],
   "source": [
    "from langchain_core.prompts import ChatPromptTemplate\n",
    "from langchain.document_loaders import PyMuPDFLoader\n",
    "from langchain.text_splitter import RecursiveCharacterTextSplitter\n",
    "from langchain_chroma import Chroma"
   ]
  },
  {
   "cell_type": "code",
   "execution_count": 14,
   "id": "8fbd3a90",
   "metadata": {},
   "outputs": [],
   "source": [
    "text_splitter = RecursiveCharacterTextSplitter(chunk_size=1000, chunk_overlap=100) "
   ]
  },
  {
   "cell_type": "code",
   "execution_count": 15,
   "id": "f9ec3c3b",
   "metadata": {},
   "outputs": [
    {
     "name": "stdout",
     "output_type": "stream",
     "text": [
      "['./data\\\\constitution_of_Korea.pdf']\n"
     ]
    }
   ],
   "source": [
    "# 디렉토리 내 모든 파일을 리스트로 변환하는 함수 정의\n",
    "\n",
    "import os\n",
    "\n",
    "def list_files(directory):\n",
    "    file_list = []\n",
    "    for root, dirs, files in os.walk(directory):\n",
    "        for file in files:\n",
    "            file_list.append(os.path.join(root, file))\n",
    "    return file_list\n",
    "\n",
    "# 지정된 디렉토리 내 모든 파일명을 리스트로 호출\n",
    "file_names = list_files('./data')\n",
    "print(file_names)"
   ]
  },
  {
   "cell_type": "code",
   "execution_count": 16,
   "id": "4d582a2f",
   "metadata": {},
   "outputs": [],
   "source": [
    "from langchain.embeddings import HuggingFaceEmbeddings"
   ]
  },
  {
   "cell_type": "code",
   "execution_count": 17,
   "id": "57245086",
   "metadata": {},
   "outputs": [
    {
     "data": {
      "text/plain": [
       "HuggingFaceEmbeddings(client=SentenceTransformer(\n",
       "  (0): Transformer({'max_seq_length': 128, 'do_lower_case': False}) with Transformer model: BertModel \n",
       "  (1): Pooling({'word_embedding_dimension': 384, 'pooling_mode_cls_token': False, 'pooling_mode_mean_tokens': True, 'pooling_mode_max_tokens': False, 'pooling_mode_mean_sqrt_len_tokens': False, 'pooling_mode_weightedmean_tokens': False, 'pooling_mode_lasttoken': False, 'include_prompt': True})\n",
       "), model_name='sentence-transformers/paraphrase-multilingual-MiniLM-L12-v2', cache_folder=None, model_kwargs={'device': 'cpu'}, encode_kwargs={'normalize_embeddings': True}, multi_process=False, show_progress=False)"
      ]
     },
     "execution_count": 17,
     "metadata": {},
     "output_type": "execute_result"
    }
   ],
   "source": [
    "# 버전 문제 해결 : https://chan7ee.tistory.com/entry/issue-tensorflow-keras-transformer-%EB%B2%84%EC%A0%84-%EB%AC%B8%EC%A0%9C\n",
    "# pip install tf-keras==2.16.0\n",
    "\n",
    "# 문장을 임베딩으로 변환하고 벡터 저장소에 저장\n",
    "embeddings_model = HuggingFaceEmbeddings(\n",
    "    model_name='sentence-transformers/paraphrase-multilingual-MiniLM-L12-v2',    # 다국어 모델\n",
    "    # model_name='jhgan/ko-sroberta-multitask',  # 한국어 모델 - 에러 발생 (250603)\n",
    "    model_kwargs={'device':'cpu'},\n",
    "    encode_kwargs={'normalize_embeddings':True},\n",
    ")\n",
    "\n",
    "embeddings_model"
   ]
  },
  {
   "cell_type": "code",
   "execution_count": 18,
   "id": "08dd680b",
   "metadata": {},
   "outputs": [],
   "source": [
    "loader = PyMuPDFLoader(file_names[0])\n",
    "documents = loader.load()\n",
    "\n",
    "split_doc = loader.load_and_split(text_splitter)\n",
    "\n",
    "# 임베딩 DB 생성\n",
    "db = Chroma.from_documents(\n",
    "    documents=split_doc, embedding=embeddings_model, collection_name=\"my_db\"\n",
    ")"
   ]
  },
  {
   "cell_type": "code",
   "execution_count": 19,
   "id": "23343b10",
   "metadata": {},
   "outputs": [
    {
     "name": "stdout",
     "output_type": "stream",
     "text": [
      "민족문화의 창달에 노력하여 대통령으로서의 직책을 성실히 수행할 것을 국민 앞에 엄숙히 선\n",
      "서합니다.\"\n",
      " \n",
      "제70조 대통령의 임기는 5년으로 하며, 중임할 수 없다.\n",
      " \n",
      "제71조 대통령이 궐위되거나 사고로 인하여 직무를 수행할 수 없을 때에는 국무총리, 법률이 정\n",
      "한 국무위원의 순서로 그 권한을 대행한다.\n",
      " \n",
      "제72조 대통령은 필요하다고 인정할 때에는 외교ㆍ국방ㆍ통일 기타 국가안위에 관한 중요정책\n",
      "을 국민투표에 붙일 수 있다.\n",
      " \n",
      "제73조 대통령은 조약을 체결ㆍ비준하고, 외교사절을 신임ㆍ접수 또는 파견하며, 선전포고와 강\n",
      "화를 한다.\n",
      "민족문화의 창달에 노력하여 대통령으로서의 직책을 성실히 수행할 것을 국민 앞에 엄숙히 선\n",
      "서합니다.\"\n",
      " \n",
      "제70조 대통령의 임기는 5년으로 하며, 중임할 수 없다.\n",
      " \n",
      "제71조 대통령이 궐위되거나 사고로 인하여 직무를 수행할 수 없을 때에는 국무총리, 법률이 정\n",
      "한 국무위원의 순서로 그 권한을 대행한다.\n",
      " \n",
      "제72조 대통령은 필요하다고 인정할 때에는 외교ㆍ국방ㆍ통일 기타 국가안위에 관한 중요정책\n",
      "을 국민투표에 붙일 수 있다.\n",
      " \n",
      "제73조 대통령은 조약을 체결ㆍ비준하고, 외교사절을 신임ㆍ접수 또는 파견하며, 선전포고와 강\n",
      "화를 한다.\n",
      "법제처                                                            15                                                       국가법령정보센터\n",
      "「대한민국헌법」\n",
      "제96조 행정각부의 설치ㆍ조직과 직무범위는 법률로 정한다.\n",
      " \n",
      "                    제4관 감사원\n",
      " \n",
      "제97조 국가의 세입ㆍ세출의 결산, 국가 및 법률이 정한 단체의 회계검사와 행정기관 및 공무원\n",
      "의 직무에 관한 감찰을 하기 위하여 대통령 소속하에 감사원을 둔다.\n",
      " \n",
      "제98조 ①감사원은 원장을 포함한 5인 이상 11인 이하의 감사위원으로 구성한다.\n",
      "②원장은 국회의 동의를 얻어 대통령이 임명하고, 그 임기는 4년으로 하며, 1차에 한하여 중임\n",
      "할 수 있다.\n",
      "③감사위원은 원장의 제청으로 대통령이 임명하고, 그 임기는 4년으로 하며, 1차에 한하여 중\n",
      "임할 수 있다.\n",
      " \n",
      "제99조 감사원은 세입ㆍ세출의 결산을 매년 검사하여 대통령과 차년도국회에 그 결과를 보고하\n",
      "여야 한다.\n",
      " \n",
      "제100조 감사원의 조직ㆍ직무범위ㆍ감사위원의 자격ㆍ감사대상공무원의 범위 기타 필요한 사\n",
      "항은 법률로 정한다.\n",
      " \n",
      "                    제5장 법원\n",
      " \n",
      "제101조 ①사법권은 법관으로 구성된 법원에 속한다.\n",
      "②법원은 최고법원인 대법원과 각급법원으로 조직된다.\n",
      "③법관의 자격은 법률로 정한다.\n",
      " \n",
      "제102조 ①대법원에 부를 둘 수 있다.\n",
      "②대법원에 대법관을 둔다. 다만, 법률이 정하는 바에 의하여 대법관이 아닌 법관을 둘 수 있다\n",
      ".\n",
      "③대법원과 각급법원의 조직은 법률로 정한다.\n",
      " \n",
      "제103조 법관은 헌법과 법률에 의하여 그 양심에 따라 독립하여 심판한다.\n",
      " \n",
      "제104조 ①대법원장은 국회의 동의를 얻어 대통령이 임명한다.\n",
      "②대법관은 대법원장의 제청으로 국회의 동의를 얻어 대통령이 임명한다.\n",
      "③대법원장과 대법관이 아닌 법관은 대법관회의의 동의를 얻어 대법원장이 임명한다.\n"
     ]
    }
   ],
   "source": [
    "# 유사성 측정\n",
    "\n",
    "question = \"대통령\"\n",
    "searchDocs = db.similarity_search(question)\n",
    "\n",
    "print(searchDocs[0].page_content)\n",
    "print(searchDocs[1].page_content)\n",
    "print(searchDocs[3].page_content)"
   ]
  },
  {
   "cell_type": "code",
   "execution_count": 20,
   "id": "30a49e25",
   "metadata": {},
   "outputs": [],
   "source": [
    "retriever = db.as_retriever(search_kwargs={\"k\": 4})"
   ]
  },
  {
   "cell_type": "code",
   "execution_count": 21,
   "id": "980e88ef",
   "metadata": {},
   "outputs": [
    {
     "name": "stdout",
     "output_type": "stream",
     "text": [
      "Query: 대통령이 탄핵될 수 있는 조건에 대해 알려줘\n",
      "Answer: 탄핵의 조건은 다음과 같습니다.\n",
      "\n",
      "「대한민국 헌법」 제93조에 따르면, 대통령이란 다음의 조건 하에서 탄핵을당할 수 있습니다.\n",
      "\n",
      "1. 민주주의적 기본원칙 위반\n",
      "2. 국가안전을 저하하는 행동\n",
      "3. 법률을 어길 경우\n",
      "\n",
      "따라서, 이러한 조건 중 하나가 발견되면 대통령은 탄핵을 당할 수 있습니다.\n"
     ]
    }
   ],
   "source": [
    "from langchain_core.output_parsers import StrOutputParser\n",
    "from langchain_core.runnables import RunnablePassthrough\n",
    "from langchain_community.chat_models import ChatOllama\n",
    "\n",
    "# Prompt 템플릿 생성\n",
    "template = '''Please answer all the answers in Korean.:\n",
    "{context}\n",
    "\n",
    "Question: {question}\n",
    "'''\n",
    "\n",
    "prompt = ChatPromptTemplate.from_template(template)\n",
    "\n",
    "def format_docs(docs):\n",
    "    return '\\n\\n'.join([d.page_content for d in docs])\n",
    "\n",
    "model = ChatOllama(model = \"llama3\")  \n",
    "\n",
    "# RAG Chain 연결\n",
    "rag_chain = (\n",
    "    {'context': retriever | format_docs, 'question': RunnablePassthrough()}\n",
    "    | prompt\n",
    "    | model\n",
    "    | StrOutputParser()\n",
    ")\n",
    "\n",
    "# Chain 실행\n",
    "query = \"대통령이 탄핵될 수 있는 조건에 대해 알려줘\"\n",
    "answer = rag_chain.invoke(query)\n",
    "\n",
    "print(\"Query:\", query)\n",
    "print(\"Answer:\", answer)"
   ]
  },
  {
   "cell_type": "code",
   "execution_count": null,
   "id": "7730b41f",
   "metadata": {},
   "outputs": [
    {
     "data": {
      "text/plain": [
       "\"\\n# 직접 입력한 경우 응답 결과,\\n\\n\\n(base) C:\\\\Dev\\\\LLM_LangChain_RAG_250521>ollama run llama3\\n>>>\\n>>>\\n>>>\\n>>> 대통령의 탄핵 요건에 대해 알려줘\\nIn South Korea, the President can be impeached if they are found to have committed serious constitutional violations or breaches of presidential\\nduties. Here are the key conditions for impeachment:\\n\\n1. **Grounds for impeachment**: The Constitution sets out specific grounds for impeachment, including:\\n        * High treason (Article 65)\\n        * Violation of the Constitution or laws (Article 66)\\n        * Gross negligence or malfeasance in office (Article 67)\\n        * Abuse of power (Article 68)\\n2. **Impeachment process**: The impeachment process is as follows:\\n        1. **Submission of a complaint**: A member of the National Assembly submits a written complaint to the Speaker of the Assembly, stating the grounds \\nfor impeachment and providing evidence.\\n        2. **Investigation and deliberation**: The Standing Committee on General Purposes (or other relevant committee) conducts an investigation and holds \\nhearings to gather evidence and hear testimony from witnesses.\\n        3. **Vote by the National Assembly**: If the committee finds sufficient evidence to support the complaint, it submits a report to the full National \\nAssembly, which then votes on whether to impeach the President.\\n\\nTo be impeached, the President must receive at least 2/3 of the total votes cast in favor of impeachment (i.e., more than half of the members present\\nand voting).\\n\\n3. **Constitutional Court review**: If the National Assembly votes to impeach the President, the Constitutional Court reviews the decision to ensure\\nit is constitutional. The Court may uphold the impeachment or declare it unconstitutional.\\n4. **Removal from office**: If the Constitutional Court upholds the impeachment, the President is removed from office and replaced by the Prime\\nMinister (or Acting President, if necessary).\\n\\nIt's worth noting that the South Korean Constitution provides for a separate process for removing the President due to mental or physical disability\\n(Article 67-2), which does not involve impeachment.\\n\\n\""
      ]
     },
     "execution_count": 22,
     "metadata": {},
     "output_type": "execute_result"
    }
   ],
   "source": [
    "'''\n",
    "# 직접 입력한 경우 응답 결과,\n",
    "\n",
    "(base) C:\\Users\\wonta>ollama run llama3:8b\n",
    ">>> 대통령이 탄핵될 수 있는 조건에 대해 알려줘\n",
    "🤔\n",
    "\n",
    "In South Korea, the impeachment of the President is possible under certain conditions.\n",
    "According to Article 69 of the Constitution and the Act on the Impeachment of the President, a\n",
    "President can be impeached if they are deemed unfit for their duties or have committed an act\n",
    "that warrants such removal.\n",
    "\n",
    "Here are some specific grounds for impeachment:\n",
    "\n",
    "1. **Abuse of power**: The President has misused their authority to harm the people's rights\n",
    "and interests.\n",
    "2. **Incompetence**: The President is unable to perform their duties due to mental or physical\n",
    "incapacity.\n",
    "3. **Crimes**: The President has committed a crime that warrants removal from office, such as\n",
    "treason, bribery, or other serious offenses.\n",
    "4. **Misconduct**: The President has engaged in conduct unbecoming of the office, such as\n",
    "corruption, embezzlement, or breach of trust.\n",
    "\n",
    "To impeach the President, two-thirds of the total members of the National Assembly must vote\n",
    "in favor of impeachment. If a majority of the Assembly votes in favor of impeachment, the\n",
    "President is suspended from duty and the Chief Justice of the Constitutional Court becomes\n",
    "acting President.\n",
    "\n",
    "The impeachment process typically involves the following steps:\n",
    "\n",
    "1. **Investigation**: The National Assembly conducts an investigation into allegations against\n",
    "the President.\n",
    "2. **Voting**: The Assembly holds a secret ballot to determine if there are sufficient grounds\n",
    "for impeachment.\n",
    "3. **Impeachment vote**: If the majority of members vote in favor of impeachment, the\n",
    "President is suspended and the Chief Justice becomes acting President.\n",
    "4. **Trial**: The Constitutional Court holds a trial to decide whether the President should be\n",
    "removed from office.\n",
    "\n",
    "It's worth noting that the impeachment process in South Korea is designed to ensure that the\n",
    "President can only be removed from office through a fair and transparent process, with due\n",
    "respect for the Constitution and the rule of law.\n",
    "'''\n"
   ]
  }
 ],
 "metadata": {
  "kernelspec": {
   "display_name": "base",
   "language": "python",
   "name": "base"
  },
  "language_info": {
   "codemirror_mode": {
    "name": "ipython",
    "version": 3
   },
   "file_extension": ".py",
   "mimetype": "text/x-python",
   "name": "python",
   "nbconvert_exporter": "python",
   "pygments_lexer": "ipython3",
   "version": "3.11.7"
  }
 },
 "nbformat": 4,
 "nbformat_minor": 5
}
